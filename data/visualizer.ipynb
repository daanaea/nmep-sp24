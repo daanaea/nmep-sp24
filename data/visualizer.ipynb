{
 "cells": [
  {
   "cell_type": "code",
   "execution_count": 1,
   "metadata": {},
   "outputs": [
    {
     "name": "stdout",
     "output_type": "stream",
     "text": [
      "check\n"
     ]
    }
   ],
   "source": [
    "print('check')"
   ]
  },
  {
   "cell_type": "code",
   "execution_count": 1,
   "metadata": {},
   "outputs": [
    {
     "name": "stderr",
     "output_type": "stream",
     "text": [
      "/home/daanaea/miniconda3/envs/vision-zoo/lib/python3.10/site-packages/tqdm/auto.py:21: TqdmWarning: IProgress not found. Please update jupyter and ipywidgets. See https://ipywidgets.readthedocs.io/en/stable/user_install.html\n",
      "  from .autonotebook import tqdm as notebook_tqdm\n"
     ]
    },
    {
     "name": "stdout",
     "output_type": "stream",
     "text": [
      "check\n"
     ]
    },
    {
     "ename": "TypeError",
     "evalue": "MediumImagenetHDF5Dataset.__init__() got an unexpected keyword argument 'train'",
     "output_type": "error",
     "traceback": [
      "\u001b[0;31m---------------------------------------------------------------------------\u001b[0m",
      "\u001b[0;31mTypeError\u001b[0m                                 Traceback (most recent call last)",
      "Cell \u001b[0;32mIn[1], line 41\u001b[0m\n\u001b[1;32m     26\u001b[0m \u001b[38;5;66;03m# Visualizer\u001b[39;00m\n\u001b[1;32m     27\u001b[0m \n\u001b[1;32m     28\u001b[0m \u001b[38;5;66;03m# from torchvision.utils import make_grid\u001b[39;00m\n\u001b[0;32m   (...)\u001b[0m\n\u001b[1;32m     36\u001b[0m \u001b[38;5;66;03m# grid = make_grid(dog_list)\u001b[39;00m\n\u001b[1;32m     37\u001b[0m \u001b[38;5;66;03m# show(grid)\u001b[39;00m\n\u001b[1;32m     39\u001b[0m \u001b[38;5;28mprint\u001b[39m(\u001b[38;5;124m'\u001b[39m\u001b[38;5;124mcheck\u001b[39m\u001b[38;5;124m'\u001b[39m)\n\u001b[0;32m---> 41\u001b[0m data \u001b[38;5;241m=\u001b[39m \u001b[43mMediumImagenetHDF5Dataset\u001b[49m\u001b[43m(\u001b[49m\u001b[43mimg_size\u001b[49m\u001b[38;5;241;43m=\u001b[39;49m\u001b[38;5;241;43m224\u001b[39;49m\u001b[43m,\u001b[49m\u001b[43m \u001b[49m\u001b[43mtrain\u001b[49m\u001b[38;5;241;43m=\u001b[39;49m\u001b[38;5;28;43;01mFalse\u001b[39;49;00m\u001b[43m)\u001b[49m\n\u001b[1;32m     43\u001b[0m \u001b[38;5;66;03m# i = random.randint(0, 10_000)\u001b[39;00m\n\u001b[1;32m     44\u001b[0m \u001b[38;5;66;03m# print(i)\u001b[39;00m\n\u001b[1;32m     45\u001b[0m \u001b[38;5;66;03m# print(data.input_size)\u001b[39;00m\n\u001b[1;32m     46\u001b[0m \u001b[38;5;66;03m# data.__getitem__(i)\u001b[39;00m\n\u001b[1;32m     48\u001b[0m \u001b[38;5;28;01mdef\u001b[39;00m \u001b[38;5;21minverse_transform\u001b[39m(img):\n",
      "\u001b[0;31mTypeError\u001b[0m: MediumImagenetHDF5Dataset.__init__() got an unexpected keyword argument 'train'"
     ]
    }
   ],
   "source": [
    "from __future__ import annotations\n",
    "\n",
    "import torch\n",
    "import h5py\n",
    "from PIL import Image, ImageFile\n",
    "from torch.utils.data import Dataset, Subset\n",
    "from torchvision import transforms\n",
    "from torchvision.datasets import CIFAR10, ImageFolder\n",
    "\n",
    "\n",
    "ImageFile.LOAD_TRUNCATED_IMAGES = True\n",
    "\n",
    "# DataLoader\n",
    "\n",
    "from torch.utils.data import DataLoader\n",
    "\n",
    "from torchvision.utils import save_image\n",
    "\n",
    "from datasets import CIFAR10Dataset, MediumImagenetHDF5Dataset\n",
    "\n",
    "import numpy as np\n",
    "import random\n",
    "\n",
    "from matplotlib import pyplot as plt\n",
    "\n",
    "# Visualizer\n",
    "\n",
    "# from torchvision.utils import make_grid\n",
    "# from torchvision.io import read_image\n",
    "# from pathlib import Path\n",
    "\n",
    "# dog1_int = read_image(str(Path('../assets') / 'dog1.jpg'))\n",
    "# dog2_int = read_image(str(Path('../assets') / 'dog2.jpg'))\n",
    "# dog_list = [dog1_int, dog2_int]\n",
    "\n",
    "# grid = make_grid(dog_list)\n",
    "# show(grid)\n",
    "\n",
    "print('check')\n",
    "\n",
    "data = MediumImagenetHDF5Dataset(img_size=224)\n",
    "\n",
    "# i = random.randint(0, 10_000)\n",
    "# print(i)\n",
    "# print(data.input_size)\n",
    "# data.__getitem__(i)\n",
    "\n",
    "def inverse_transform(img):\n",
    "    transform = [\n",
    "        transforms.Normalize(mean = [ 0., 0., 0. ], std = [1/0.2023, 1/0.1994, 1/0.2010]),\n",
    "        transforms.Normalize(mean = [-0.4914, -0.4822, -0.4465], std = [ 1., 1., 1. ]),\n",
    "        transforms.Resize([224] * 2),\n",
    "    ]\n",
    "    return transforms.Compose(transform)(img)\n",
    "# %%\n",
    "for i in range(10):\n",
    "    image, label = data.__getitem__(random.randint(0, 10_000))\n",
    "    # label = datapoint[0]\n",
    "    # image = datapoint[1]\n",
    "    # image.reshape(3,32,32).permute(1, 2, 0)\n",
    "    # image_path = \"output/resnet18/image\" + str(i) + \"_\" + str(label.item()) + \".png\"\n",
    "    # tensor  = image.cpu()\n",
    "    # save_image(tensor, image_path)\n",
    "    # image = mpimg.imread(image_path)\n",
    "    # mpimg.title = image_path\n",
    "    \n",
    "    untransformed_image = inverse_transform(image)\n",
    "    untransformed_image = np.array(untransformed_image)\n",
    "\n",
    "    plt.imshow(untransformed_image.transpose((1, 2, 0)))\n",
    "    plt.show()\n",
    "\n",
    "print('done')\n"
   ]
  },
  {
   "cell_type": "code",
   "execution_count": null,
   "metadata": {},
   "outputs": [],
   "source": []
  }
 ],
 "metadata": {
  "kernelspec": {
   "display_name": "vision-zoo",
   "language": "python",
   "name": "python3"
  },
  "language_info": {
   "codemirror_mode": {
    "name": "ipython",
    "version": 3
   },
   "file_extension": ".py",
   "mimetype": "text/x-python",
   "name": "python",
   "nbconvert_exporter": "python",
   "pygments_lexer": "ipython3",
   "version": "3.10.13"
  }
 },
 "nbformat": 4,
 "nbformat_minor": 2
}
